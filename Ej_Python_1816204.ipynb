{
  "nbformat": 4,
  "nbformat_minor": 0,
  "metadata": {
    "colab": {
      "name": "Untitled0.ipynb",
      "provenance": [],
      "collapsed_sections": [],
      "authorship_tag": "ABX9TyM+I5e5F5VHvZ+aw1FcxfeI",
      "include_colab_link": true
    },
    "kernelspec": {
      "name": "python3",
      "display_name": "Python 3"
    },
    "language_info": {
      "name": "python"
    }
  },
  "cells": [
    {
      "cell_type": "markdown",
      "metadata": {
        "id": "view-in-github",
        "colab_type": "text"
      },
      "source": [
        "<a href=\"https://colab.research.google.com/github/AxelLuna07/Mineria_De_Datos/blob/main/Ej_Python_1816204.ipynb\" target=\"_parent\"><img src=\"https://colab.research.google.com/assets/colab-badge.svg\" alt=\"Open In Colab\"/></a>"
      ]
    },
    {
      "cell_type": "markdown",
      "metadata": {
        "id": "xmYynjye_XD2"
      },
      "source": [
        "Ejercicios\n"
      ]
    },
    {
      "cell_type": "code",
      "metadata": {
        "colab": {
          "base_uri": "https://localhost:8080/"
        },
        "id": "dfiZ9qTz0jPe",
        "outputId": "fdcd74c7-3b69-41c3-c110-1816ca180dc8"
      },
      "source": [
        "#Ejercicio 1 Realiza una variable con tu matricula y realiza una secuencia de imprimir con tu nombre y tu matricula concatenados.\n",
        "\n",
        "a=1816204\n",
        "b='Axel Gerardo Cañamar Luna '\n",
        "print (b+str(a),sep='')"
      ],
      "execution_count": null,
      "outputs": [
        {
          "output_type": "stream",
          "text": [
            "Axel Gerardo Cañamar Luna 1816204\n"
          ],
          "name": "stdout"
        }
      ]
    },
    {
      "cell_type": "code",
      "metadata": {
        "id": "aGc82KqN0j9x"
      },
      "source": [
        "#Ejercicio 2 Pidiendo el input del usuario pide dos números y crea una pequeña calculadora con los operadores básicos de suma, resta, multiplicación, división, y exponente.\n",
        "#Utilizando el loop de while   \n",
        "x = int(input(\"Introduce un numero: \"))\n",
        "y = int(input(\"Introduce un numero: \"))\n",
        "a=1\n",
        "while a in range(1,5):\n",
        "  a = int(input(\"\\n1.Suma = 1 \\n2.Resta = 2 \\n3.Multiplicación = 3 \\n4.División = 4 \\n5.Exponente = 5 \\nQue operación desea realizar? \"))\n",
        "  if a == 1:\n",
        "       r = x+y\n",
        "  else:\n",
        "      if a == 2:\n",
        "        r=x-y\n",
        "      else:\n",
        "        if a == 3:\n",
        "          r=x*y\n",
        "        else:\n",
        "          if a==4:\n",
        "             r=x/y\n",
        "          else:\n",
        "            if a==5:\n",
        "              r=x**y\n",
        "            else:\n",
        "              print(\"Ingrese una opción válida\")\n",
        "              break;\n",
        "          \n",
        "  print(\"\\nEl resultado es: \", r)\n",
        "  a = int(input(\"\\n1.Si = 1 \\n2.No = 0 \\n¿Desea realizar otra operación?\"))\n",
        "\n",
        "\n",
        "\n",
        "\n",
        "\n"
      ],
      "execution_count": null,
      "outputs": []
    },
    {
      "cell_type": "code",
      "metadata": {
        "id": "UMFISYvO0Reg",
        "colab": {
          "base_uri": "https://localhost:8080/"
        },
        "outputId": "63926506-885d-4769-989f-61a21579c547"
      },
      "source": [
        "#Ejercicio 3. Con loop while o for, realiza una lista de 10 numeros multiplos de 3, y después realiza una función de loop que sume todos los números dentro del arreglo.\n",
        "\n",
        "m=[]\n",
        "x=0\n",
        "j=3\n",
        "for i in range(0,10):\n",
        "  m.append(j)\n",
        "  j= j+3\n",
        "  x=m[i]+x\n",
        "print(\"La suma de los 10 primeros múltiplos de 3 es de: \",x)\n",
        "\n"
      ],
      "execution_count": 45,
      "outputs": [
        {
          "output_type": "stream",
          "text": [
            "La suma de los 10 primeros múltiplos de 3 es de:  165\n"
          ],
          "name": "stdout"
        }
      ]
    },
    {
      "cell_type": "code",
      "metadata": {
        "colab": {
          "base_uri": "https://localhost:8080/"
        },
        "id": "WTkVHQoP7hbP",
        "outputId": "4c9db4f7-2a68-46b6-e57e-421639811b1d"
      },
      "source": [
        "#Ejercicio 4.\n",
        "x = int(input(\"Ingrese un numero: \"))\n",
        "if x % 2 == 0:\n",
        "    print(\"El numero\",x, \"es par\")\n",
        "else:\n",
        "    print(\"El numero\",x, \"es impar\")\n",
        "m=1\n",
        "for i in range(2,x):\n",
        "  while m != 0:\n",
        "    if x%i==0:\n",
        "       print(\"El numero\",x, \"no es primo\")\n",
        "       m=0\n",
        "    else:\n",
        "      print(\"El numero\",x, \" es primo\")\n",
        "      break\n",
        "  break\n",
        "\n",
        "\n",
        "  \n",
        "\n",
        "\n"
      ],
      "execution_count": 35,
      "outputs": [
        {
          "output_type": "stream",
          "text": [
            "Ingrese un numero: 19\n",
            "El numero 19 es impar\n",
            "El numero 19  es primo\n"
          ],
          "name": "stdout"
        }
      ]
    }
  ]
}